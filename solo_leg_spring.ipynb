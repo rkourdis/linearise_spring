{
 "cells": [
  {
   "cell_type": "code",
   "execution_count": 1,
   "id": "bea82e7a-f9cb-42f3-8798-b71fc26a50e0",
   "metadata": {},
   "outputs": [],
   "source": [
    "import time\n",
    "import numpy as np\n",
    "import casadi as ca\n",
    "import matplotlib.pyplot as plt\n",
    "from ipywidgets import interact, FloatSlider\n",
    "\n",
    "from tools import *"
   ]
  },
  {
   "cell_type": "code",
   "execution_count": 2,
   "id": "a77dfd6d-7a31-4225-96ca-4bbaaf6f9377",
   "metadata": {},
   "outputs": [],
   "source": [
    "robot = load_robot(urdf = \"solo_leg/solo12.urdf\")"
   ]
  },
  {
   "cell_type": "code",
   "execution_count": 3,
   "id": "3203d6bf-f270-41b6-b612-321069350597",
   "metadata": {},
   "outputs": [
    {
     "name": "stdout",
     "output_type": "stream",
     "text": [
      "You can open the visualizer by visiting the following URL:\n",
      "http://127.0.0.1:7000/static/\n"
     ]
    },
    {
     "data": {
      "text/html": [
       "\n",
       "            <div style=\"height: 400px; width: 100%; overflow-x: auto; overflow-y: hidden; resize: both\">\n",
       "            <iframe src=\"http://127.0.0.1:7000/static/\" style=\"width: 100%; height: 100%; border: none\"></iframe>\n",
       "            </div>\n",
       "            "
      ],
      "text/plain": [
       "<IPython.core.display.HTML object>"
      ]
     },
     "execution_count": 3,
     "metadata": {},
     "output_type": "execute_result"
    }
   ],
   "source": [
    "viz = create_visualizer(robot)\n",
    "viz.viewer.jupyter_cell()"
   ]
  },
  {
   "cell_type": "code",
   "execution_count": 4,
   "id": "eab5838c-4e55-4af6-9e3c-64a076977182",
   "metadata": {},
   "outputs": [
    {
     "data": {
      "application/vnd.jupyter.widget-view+json": {
       "model_id": "34a27dc9806343649452a0f15f8b66dc",
       "version_major": 2,
       "version_minor": 0
      },
      "text/plain": [
       "interactive(children=(FloatSlider(value=0.0, description='q0', max=1.57, min=-4.2, step=0.01), FloatSlider(val…"
      ]
     },
     "metadata": {},
     "output_type": "display_data"
    },
    {
     "data": {
      "text/plain": [
       "<function __main__.<lambda>(q0, q1)>"
      ]
     },
     "execution_count": 4,
     "metadata": {},
     "output_type": "execute_result"
    }
   ],
   "source": [
    "JOINT_LIST = [\"HFE\", \"KFE\"]\n",
    "q = np.zeros((robot.nq, 1))\n",
    "\n",
    "def set_joint(joint, angle):\n",
    "    q[JOINT_LIST.index(joint)] = angle\n",
    "    robot.display(q)\n",
    "    \n",
    "interact(\n",
    "    lambda q0, q1: (set_joint(\"HFE\", q0), set_joint(\"KFE\", q1)),\n",
    "    q0 = FloatSlider(min=-4.2, max=1.57, step=0.01, value=0),\n",
    "    q1 = FloatSlider(min=-6.28, max=6.28, step=0.01, value=0)\n",
    ")"
   ]
  },
  {
   "cell_type": "code",
   "execution_count": 5,
   "id": "5ac1ad03",
   "metadata": {},
   "outputs": [],
   "source": [
    "# Forward kinematics (1x3):\n",
    "fk_3d = symbolic_fk(robot, [\"FOOT\"])\n",
    "\n",
    "# Keep only X and Z components (1x2):\n",
    "q_sym = ca.SX.sym(\"q\", robot.nq, 1)\n",
    "fk_planar = ca.Function(\"fk_planar\", [q_sym], [ca.horzcat(fk_3d(q_sym)[0, 0], fk_3d(q_sym)[0, 2])])"
   ]
  },
  {
   "cell_type": "code",
   "execution_count": 6,
   "id": "f861dcb0",
   "metadata": {},
   "outputs": [],
   "source": [
    "J = ca.Function(\"J\", [q_sym], [ca.jacobian(fk_planar(q_sym), q_sym)])"
   ]
  },
  {
   "cell_type": "code",
   "execution_count": 7,
   "id": "be5ee338",
   "metadata": {},
   "outputs": [],
   "source": [
    "### Inverse Kinematics (for testing) ###\n",
    "def ik_newton(p_desired, q0 = None):\n",
    "    \"\"\"\n",
    "    p_desired: End effector position to find joint angles for\n",
    "    q0:        Starting joint angles for iterative optimization\n",
    "               (random in [-2π, 2π] if None)\n",
    "    \"\"\"\n",
    "    q_k = np.copy(q0) if q0 is not None else np.random.uniform(-2 * np.pi, 2 * np.pi, (robot.nq, 1))\n",
    "    err = lambda q: (fk_planar(q) - p_desired).T\n",
    "    m = lambda q: 0.5 * (e := err(q)).T @ e     # 1/2 norm(e(q))^2 merit\n",
    "\n",
    "    iterations = 0\n",
    "\n",
    "    while np.max(np.abs(p_desired - fk_planar(q_k))) > 1e-4:\n",
    "        e_k, m_k, J_k = err(q_k), m(q_k), J(q_k)\n",
    "        \n",
    "        # Zero out linearization:\n",
    "        Δq = -ca.pinv(J_k) @ e_k       \n",
    "\n",
    "        # Line search using Armijo rule:\n",
    "        α = 1.\n",
    "        \n",
    "        while m(q_k + α * Δq) > m_k + 1e-4 * (e_k.T @ J_k) @ (α * Δq):\n",
    "            α *= 0.5\n",
    "            print(f\"Linesearch backtracking (α={α})\")\n",
    "\n",
    "        q_k += α * Δq\n",
    "        iterations += 1\n",
    "\n",
    "    print(f\"Performed IK using Newton in {iterations} iterations.\")\n",
    "    return np.array(q_k)"
   ]
  },
  {
   "cell_type": "code",
   "execution_count": 8,
   "id": "06878dc0",
   "metadata": {},
   "outputs": [],
   "source": [
    "### Robot dynamics ###\n",
    "def dynamics(x, τ):\n",
    "    \"\"\" x_dot = f(x, τ) with x = vstack(q, q_dot): 4x1 \"\"\"\n",
    "    q, q_dot = x[:2], x[2:]\n",
    "    return np.vstack([q_dot, pin.aba(robot.model, robot.data, q, q_dot, τ).reshape(-1, 1)])"
   ]
  },
  {
   "cell_type": "code",
   "execution_count": 9,
   "id": "d94274e0",
   "metadata": {},
   "outputs": [],
   "source": [
    "### Simulation ###\n",
    "u_hist = []\n",
    "\n",
    "def integrate_rk4(x, u, h):\n",
    "    \"\"\"\n",
    "    Assume that control input is ZOH for the whole h time period\n",
    "        TODO: What difference does it make to requery controller?\n",
    "    \"\"\"\n",
    "    \n",
    "    k1 = dynamics(x, u)             # x_next = x + h * k1 is forward Euler\n",
    "    k2 = dynamics(x + h/2 * k1, u)\n",
    "    k3 = dynamics(x + h/2 * k2, u)\n",
    "    k4 = dynamics(x + h   * k3, u)\n",
    "\n",
    "    return x + h/6 * (k1 + 2*k2 + 2*k3 + k4)\n",
    "\n",
    "def simulate(q0, q_dot0, controller, h = 1e-3, t_max = 4, integrator = integrate_rk4, ctrl_period = None):\n",
    "    \"\"\"\n",
    "    Starting at x = vstack([`q0`, `qdot_0`]), simulate for `t_max` seconds by discretising\n",
    "    every `h` seconds. At each timestep, query `controller(q, q_dot)` to obtain the system input (τ)\n",
    "    which will be held constant for the entire timestep.\n",
    "    Use `integrator` to find x(t + h) = f(x(t), τ). If `ctrl_period` set, query controller only\n",
    "    every `ctrl_period` seconds, instead of every timestep (and hold system input constant).\n",
    "    \"\"\"\n",
    "    t_now = 0.0\n",
    "    x_hist = [np.vstack([q0, q_dot0])]\n",
    "    \n",
    "    while t_now < t_max:\n",
    "        x = x_hist[-1]\n",
    "        u = np.array(controller(x[:2], x[2:]))\n",
    "\n",
    "        for _ in range(1 if ctrl_period is None else int(ctrl_period // h)):\n",
    "            x_hist.append(integrator(x_hist[-1], u, h))\n",
    "            t_now += h\n",
    "            \n",
    "    return x_hist\n",
    "\n",
    "def visualize(x_hist, cmap = \"viridis\"):\n",
    "    xs, ys = zip(*[np.array(fk_planar(x[:2]))[0] for x in x_hist])\n",
    "    c = [idx / len(xs) for idx in range(len(xs))]\n",
    "    \n",
    "    plt.scatter(xs, ys, s = 2, c = c, cmap = cmap)\n",
    "\n",
    "    ax = plt.gca()\n",
    "    ax.set_xlim([-0.1, 0.1])\n",
    "    ax.set_ylim([-0.3, 0.05])\n",
    "    \n",
    "    cbar = plt.colorbar()\n",
    "    cbar.ax.set_ylabel(\"Trajectory Progress\", rotation=270, labelpad=20)\n",
    "    \n",
    "    for x in x_hist:\n",
    "        robot.display(x[:2])"
   ]
  },
  {
   "cell_type": "code",
   "execution_count": 10,
   "id": "4759eb9b",
   "metadata": {},
   "outputs": [],
   "source": [
    "# Spring dynamics parameters:\n",
    "q_rest = np.array([[1.0], [-2.3]]) # 2x1\n",
    "p_rest = fk_planar(q_rest)         # 1x2\n",
    "\n",
    "Kp = 15.  * np.eye(2)\n",
    "Kd = 0.3 * np.eye(2)\n",
    "M  = 0.2 * np.eye(2)\n",
    "\n",
    "# Rate of change of Jacobian given joint position and velocity:\n",
    "v_sym = ca.SX.sym(\"v\", robot.nq, 1)\n",
    "jac_dot = ca.Function(\"J_dot\", [q_sym, v_sym], [ca.jtimes(J(q_sym), q_sym, v_sym)])\n",
    "\n",
    "def id_spring_controller_symbolic(q, q_dot):\n",
    "    # Desired EE spring dynamics:\n",
    "    p_dd_des = ca.inv(M) @ (-Kp @ (fk_planar(q) - p_rest).T - Kd @ (J(q) @ q_dot))\n",
    "\n",
    "    # Find corresponding joint acceleration at current state:\n",
    "    jac_dot_times_v = jac_dot(q, q_dot) @ q_dot\n",
    "    q_dd_des = ca.pinv(J(q)) @ (p_dd_des - jac_dot_times_v)\n",
    "\n",
    "    # Perform ID to find τ that achieves the desired q_dd:\n",
    "    cmodel = cpin.Model(robot.model)\n",
    "    cdata = cmodel.createData()\n",
    "    return cpin.rnea(cmodel, cdata, q, q_dot, q_dd_des)\n",
    "\n",
    "\"\"\"\n",
    "def id_spring_controller(q, q_dot):\n",
    "    jac = J(q)\n",
    "    \n",
    "    # Desired EE spring dynamics:\n",
    "    p_dd_des = np.linalg.inv(M) @ np.array(-Kp @ (fk_planar(q) - p_rest).T - Kd @ (jac @ q_dot))\n",
    "    \n",
    "    # Find corresponding joint acceleration at current state:\n",
    "    jac_dot_times_v = np.array(jac_dot(q, q_dot)) @ q_dot\n",
    "    q_dd_des = np.linalg.pinv(jac) @ (p_dd_des - jac_dot_times_v)\n",
    "\n",
    "    # Perform ID to find τ that achieves the desired q_dd:\n",
    "    return pin.rnea(robot.model, robot.data, q, q_dot, q_dd_des)\n",
    "\"\"\"\n",
    "\n",
    "id_spring_controller = ca.Function(\"controller\", [q_sym, v_sym], [id_spring_controller_symbolic(q_sym, v_sym)])"
   ]
  },
  {
   "cell_type": "code",
   "execution_count": 11,
   "id": "215f669d",
   "metadata": {},
   "outputs": [
    {
     "data": {
      "text/html": [
       "\n",
       "            <div style=\"height: 400px; width: 100%; overflow-x: auto; overflow-y: hidden; resize: both\">\n",
       "            <iframe src=\"http://127.0.0.1:7000/static/\" style=\"width: 100%; height: 100%; border: none\"></iframe>\n",
       "            </div>\n",
       "            "
      ],
      "text/plain": [
       "<IPython.core.display.HTML object>"
      ]
     },
     "execution_count": 11,
     "metadata": {},
     "output_type": "execute_result"
    }
   ],
   "source": [
    "viz.viewer.jupyter_cell()"
   ]
  },
  {
   "cell_type": "code",
   "execution_count": 12,
   "id": "242a3be7",
   "metadata": {},
   "outputs": [
    {
     "name": "stdout",
     "output_type": "stream",
     "text": [
      "Performed IK using Newton in 3 iterations.\n"
     ]
    }
   ],
   "source": [
    "# Test spring controller by simulating with the foot starting higher than its rest position:\n",
    "q0_off = ik_newton(p_rest + np.array([[0., 0.08]]), q0 = q_rest)\n",
    "robot.display(q0_off)\n",
    "\n",
    "x_sim_id = simulate(q0_off, np.zeros((2, 1)), id_spring_controller)"
   ]
  },
  {
   "cell_type": "code",
   "execution_count": 13,
   "id": "bb814f9c",
   "metadata": {},
   "outputs": [
    {
     "data": {
      "image/png": "[encoded data removed]",
      "text/plain": [
       "<Figure size 640x480 with 2 Axes>"
      ]
     },
     "metadata": {},
     "output_type": "display_data"
    }
   ],
   "source": [
    "visualize(x_sim_id)"
   ]
  },
  {
   "cell_type": "code",
   "execution_count": 14,
   "id": "22326356",
   "metadata": {},
   "outputs": [],
   "source": [
    "x_sim_id_low_freq = simulate(q0_off, np.zeros((2, 1)), id_spring_controller, ctrl_period = 0.05)"
   ]
  },
  {
   "cell_type": "code",
   "execution_count": 15,
   "id": "97cc2c6e",
   "metadata": {},
   "outputs": [
    {
     "data": {
      "image/png": "[encoded data removed]",
      "text/plain": [
       "<Figure size 640x480 with 2 Axes>"
      ]
     },
     "metadata": {},
     "output_type": "display_data"
    }
   ],
   "source": [
    "visualize(x_sim_id_low_freq)"
   ]
  },
  {
   "cell_type": "code",
   "execution_count": 16,
   "id": "624dab9a",
   "metadata": {},
   "outputs": [],
   "source": [
    "def simulate_with_linearization(\n",
    "    q0, q_dot0, controller, h = 1e-3, t_max = 4,\n",
    "    integrator = integrate_rk4, recalc_every = 0.05\n",
    "):\n",
    "    \"\"\"\n",
    "    Similar to `simulate()` above, but instead of ZOH a controller command\n",
    "    for a `ctrl_period`, calculates an approximate command by querying a controller\n",
    "    linearization every timestep. Recalculates the linearization every `recalc_every`\n",
    "    seconds.\n",
    "    \"\"\"\n",
    "    x_sym = ca.SX.sym(\"x\", 4, 1)\n",
    "    τ = ca.Function(\"tau\", [x_sym], [controller(x_sym[:2], x_sym[2:])])\n",
    "    δτδx = ca.Function(\"del_tau_del_x\", [x_sym], [ca.jacobian(τ(x_sym), x_sym)])\n",
    "    \n",
    "    t_now, t_lin, x_lin = 0.0, None, None\n",
    "    x_hist = [np.vstack([q0, q_dot0])]\n",
    "   \n",
    "    while t_now < t_max:\n",
    "        x = x_hist[-1]\n",
    "        \n",
    "        # If we last linearized more than `recalc_every` seconds,\n",
    "        # recalculate the A and b matrices around the current state:\n",
    "        if t_lin is None or t_now - t_lin >= recalc_every:\n",
    "            A = δτδx(x)\n",
    "            b = τ(x)\n",
    "            x_lin = np.copy(x)\n",
    "            t_lin = t_now\n",
    "            \n",
    "        # Simulate using the linearized controller:\n",
    "        τ_approx = np.array(A @ (x - x_lin) + b)\n",
    "        x_hist.append(integrator(x, τ_approx, h))\n",
    "        t_now += h\n",
    "        \n",
    "    return x_hist"
   ]
  },
  {
   "cell_type": "code",
   "execution_count": 17,
   "id": "375f9fd4",
   "metadata": {},
   "outputs": [],
   "source": [
    "x_sim_with_lin = simulate_with_linearization(q0_off, np.zeros((2, 1)), id_spring_controller, recalc_every = 0.05)"
   ]
  },
  {
   "cell_type": "code",
   "execution_count": 18,
   "id": "b89d2ca4",
   "metadata": {},
   "outputs": [
    {
     "data": {
      "text/html": [
       "\n",
       "            <div style=\"height: 400px; width: 100%; overflow-x: auto; overflow-y: hidden; resize: both\">\n",
       "            <iframe src=\"http://127.0.0.1:7000/static/\" style=\"width: 100%; height: 100%; border: none\"></iframe>\n",
       "            </div>\n",
       "            "
      ],
      "text/plain": [
       "<IPython.core.display.HTML object>"
      ]
     },
     "execution_count": 18,
     "metadata": {},
     "output_type": "execute_result"
    }
   ],
   "source": [
    "viz.viewer.jupyter_cell()"
   ]
  },
  {
   "cell_type": "code",
   "execution_count": 19,
   "id": "490c37a3",
   "metadata": {},
   "outputs": [
    {
     "data": {
      "image/png": "[encoded data removed]",
      "text/plain": [
       "<Figure size 640x480 with 2 Axes>"
      ]
     },
     "metadata": {},
     "output_type": "display_data"
    }
   ],
   "source": [
    "visualize(x_sim_with_lin)"
   ]
  },
  {
   "cell_type": "code",
   "execution_count": 28,
   "id": "a762f401",
   "metadata": {},
   "outputs": [
    {
     "data": {
      "text/plain": [
       "'codegen/id_spring.c'"
      ]
     },
     "execution_count": 28,
     "metadata": {},
     "output_type": "execute_result"
    }
   ],
   "source": [
    "# Generate controller evaluation and linearization code:\n",
    "codegen = ca.CodeGenerator(\"id_spring.c\", {\"with_header\": True})\n",
    "\n",
    "x_sym = ca.SX.sym(\"x\", 4, 1)\n",
    "τ = ca.Function(\"id_spring_controller\",        [x_sym], [id_spring_controller(x_sym[:2], x_sym[2:])])\n",
    "δτδx = ca.Function(\"delta_controller_delta_x\", [x_sym], [ca.jacobian(τ(x_sym), x_sym)])\n",
    "    \n",
    "codegen.add(τ) # To evaluate full controller and generate `b` vector when linearizing\n",
    "codegen.add(δτδx)\n",
    "\n",
    "codegen.generate(\"codegen/\")"
   ]
  },
  {
   "cell_type": "code",
   "execution_count": null,
   "id": "45b90464",
   "metadata": {},
   "outputs": [],
   "source": []
  }
 ],
 "metadata": {
  "kernelspec": {
   "display_name": "Python [conda env:laas] *",
   "language": "python",
   "name": "conda-env-laas-py"
  },
  "language_info": {
   "codemirror_mode": {
    "name": "ipython",
    "version": 3
   },
   "file_extension": ".py",
   "mimetype": "text/x-python",
   "name": "python",
   "nbconvert_exporter": "python",
   "pygments_lexer": "ipython3",
   "version": "3.13.1"
  }
 },
 "nbformat": 4,
 "nbformat_minor": 5
}
